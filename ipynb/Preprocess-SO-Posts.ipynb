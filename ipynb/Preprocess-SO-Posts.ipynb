{
 "cells": [
  {
   "cell_type": "code",
   "execution_count": 1,
   "metadata": {},
   "outputs": [],
   "source": [
    "%matplotlib inline"
   ]
  },
  {
   "cell_type": "code",
   "execution_count": 1,
   "metadata": {},
   "outputs": [],
   "source": [
    "import os\n",
    "import re\n",
    "import xml.etree.ElementTree as ET\n",
    "import json\n",
    "from pathlib import Path\n",
    "from bs4 import BeautifulSoup"
   ]
  },
  {
   "cell_type": "code",
   "execution_count": 3,
   "metadata": {},
   "outputs": [],
   "source": [
    "from pymongo import MongoClient\n",
    "client = MongoClient()\n",
    "db = client.stackoverflow\n",
    "posts = db.posts"
   ]
  },
  {
   "cell_type": "code",
   "execution_count": 9,
   "metadata": {},
   "outputs": [],
   "source": [
    "def sanitise_xml(s):\n",
    "    \"\"\"\n",
    "    Use BeautifulSoup to extract all text within HTML/XML tags, except those in <code> blocks.\n",
    "    Remove the line breaks, replace unicode character for space\n",
    "    \n",
    "    Parameters\n",
    "    ----------\n",
    "    s - UTF-8 string\n",
    "    \n",
    "    Returns\n",
    "    -------\n",
    "    Cleaned up string    \n",
    "    \"\"\"\n",
    "    soup = BeautifulSoup(s, 'lxml')\n",
    "    for tag in soup.find_all('code'):\n",
    "        tag.replace_with('')\n",
    "        \n",
    "    return soup.get_text().replace('\\n', '').replace('\\xa0', ' ')"
   ]
  },
  {
   "cell_type": "code",
   "execution_count": 10,
   "metadata": {},
   "outputs": [],
   "source": [
    "def preprocess_text(data):\n",
    "    \"\"\"\n",
    "    Clean the text body of the question/answers by removing tags and code,\n",
    "    and split the Tags into a list.\n",
    "    \n",
    "    Parameter\n",
    "    ---------\n",
    "    data - dictionary, data extracted from an XML line using ElementTree\n",
    "    \n",
    "    Returns\n",
    "    -------\n",
    "    Processed dictionary\n",
    "    \"\"\"\n",
    "    if 'Body' in data:\n",
    "        data['Body'] = sanitise_xml(data['Body'])\n",
    "    \n",
    "    if 'Tags' in data:\n",
    "        data['Tags'] = re.findall('\\<([^>]+)', data['Tags'])\n",
    "        \n",
    "    return data"
   ]
  },
  {
   "cell_type": "code",
   "execution_count": 11,
   "metadata": {},
   "outputs": [],
   "source": [
    "PATH = Path('/Users/sueliu/Downloads/stackoverflow/posts')"
   ]
  },
  {
   "cell_type": "code",
   "execution_count": 12,
   "metadata": {},
   "outputs": [],
   "source": [
    "FIRST_FILE = Path(PATH/\"postsaa\")"
   ]
  },
  {
   "cell_type": "code",
   "execution_count": 13,
   "metadata": {
    "scrolled": false
   },
   "outputs": [],
   "source": [
    "new_posts = []\n",
    "counter = 0\n",
    "with open(FIRST_FILE) as f:\n",
    "    for line in f:\n",
    "        data = preprocess_text(ET.fromstring(line.strip()).attrib)\n",
    "        new_posts.append(data)\n",
    "        counter += 1"
   ]
  },
  {
   "cell_type": "code",
   "execution_count": 14,
   "metadata": {},
   "outputs": [],
   "source": [
    "result = posts.insert_many(new_posts)"
   ]
  },
  {
   "cell_type": "code",
   "execution_count": null,
   "metadata": {},
   "outputs": [],
   "source": []
  }
 ],
 "metadata": {
  "kernelspec": {
   "display_name": "Python 3",
   "language": "python",
   "name": "python3"
  },
  "language_info": {
   "codemirror_mode": {
    "name": "ipython",
    "version": 3
   },
   "file_extension": ".py",
   "mimetype": "text/x-python",
   "name": "python",
   "nbconvert_exporter": "python",
   "pygments_lexer": "ipython3",
   "version": "3.6.4"
  }
 },
 "nbformat": 4,
 "nbformat_minor": 2
}
